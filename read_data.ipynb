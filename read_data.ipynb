{
 "cells": [
  {
   "cell_type": "code",
   "execution_count": 143,
   "id": "34831e40-5ef6-46d5-ae41-dd8c8df7ffc9",
   "metadata": {
    "tags": []
   },
   "outputs": [],
   "source": [
    "import logging\n",
    "import numpy as np\n",
    "import pandas as pd\n",
    "from pandas import DataFrame, Series\n",
    "import matplotlib.pyplot as plt\n",
    "from dateutil.parser import parse\n",
    "from qdatasdk import *\n",
    "from utility import *\n",
    "\n",
    "\n",
    "security = \"000300.XSHG\"  #沪深300\n",
    "security_test = \"399006.XSHE\"\n",
    "start_date = \"2022-04-01\"\n",
    "end_date = \"2020-04-04\"\n"
   ]
  },
  {
   "cell_type": "code",
   "execution_count": 144,
   "id": "3b05c8f0-0c87-4ac3-ae87-a7115d80575a",
   "metadata": {
    "tags": []
   },
   "outputs": [
    {
     "name": "stdout",
     "output_type": "stream",
     "text": [
      "None\n"
     ]
    }
   ],
   "source": [
    "df = get_bars(security_test,start_date,end_date,unit=\"1d\",type=\"index\")\n",
    "print(df)"
   ]
  },
  {
   "cell_type": "code",
   "execution_count": 117,
   "id": "b2a361fc-9165-44c1-aa88-d756698f7048",
   "metadata": {
    "tags": []
   },
   "outputs": [
    {
     "name": "stdout",
     "output_type": "stream",
     "text": [
      "                          open       high        low      close     volume  \\\n",
      "date                                                                         \n",
      "2022-04-01 09:31:00  4222.5968  4198.8191  4191.0940  4195.3958    3511125   \n",
      "2022-04-01 10:01:00  4229.1362  4232.6432  4190.0835  4232.6154   31128574   \n",
      "2022-04-01 10:31:00  4258.2507  4266.2029  4190.0835  4256.4403   52659840   \n",
      "2022-04-01 11:01:00  4279.0749  4290.6710  4190.0835  4281.5178   68923238   \n",
      "2022-04-01 13:01:00  4270.8698  4290.6710  4190.0835  4270.0581   80603896   \n",
      "2022-04-01 13:31:00  4270.2730  4290.6710  4190.0835  4271.7387   93891541   \n",
      "2022-04-01 14:01:00  4272.6036  4290.6710  4190.0835  4270.0889  104837164   \n",
      "2022-04-01 14:31:00  4275.4991  4290.6710  4190.0835  4273.3434  116390001   \n",
      "2022-04-01 15:00:00  4273.4280  4290.6710  4190.0835  4276.1580  133803053   \n",
      "\n",
      "                            money  \n",
      "date                               \n",
      "2022-04-01 09:31:00  5.724632e+09  \n",
      "2022-04-01 10:01:00  5.511082e+10  \n",
      "2022-04-01 10:31:00  9.562541e+10  \n",
      "2022-04-01 11:01:00  1.293149e+11  \n",
      "2022-04-01 13:01:00  1.520151e+11  \n",
      "2022-04-01 13:31:00  1.744574e+11  \n",
      "2022-04-01 14:01:00  1.936914e+11  \n",
      "2022-04-01 14:31:00  2.148560e+11  \n",
      "2022-04-01 15:00:00  2.447589e+11  \n"
     ]
    }
   ],
   "source": [
    "df = get_bars(security,start_date,end_date,unit=\"1m\",type=\"index\")\n",
    "\n",
    "mask = [False for i in range(240)]\n",
    "for i in range(240):\n",
    "    if i%30==0 or i==239:\n",
    "        mask[i] = True\n",
    "print(df[mask])\n",
    "df_filter = df[mask]\n",
    "\n",
    "df_filter.to_csv('test1.csv',mode='a')\n",
    "for i in range(5):\n",
    "    df_filter.to_csv('test1.csv',mode='a',header=None)\n",
    "df = pd.read_csv('test1.csv')\n",
    "\n",
    "\n",
    "\n",
    "#pd.concat([df,df1])"
   ]
  },
  {
   "cell_type": "code",
   "execution_count": null,
   "id": "a401f4f6-3cff-47d2-9f37-1e03f5e39154",
   "metadata": {
    "tags": []
   },
   "outputs": [],
   "source": [
    "print(df)"
   ]
  },
  {
   "cell_type": "code",
   "execution_count": 96,
   "id": "ff3f06a8-04ca-402e-ab42-c9a71db261ba",
   "metadata": {
    "tags": []
   },
   "outputs": [
    {
     "name": "stdout",
     "output_type": "stream",
     "text": [
      "                 open      high        low     close        volume  \\\n",
      "date                                                                 \n",
      "2022-04-01  4198.8191  4290.671  4190.0835  4276.158  1.338031e+10   \n",
      "\n",
      "                   money  \n",
      "date                      \n",
      "2022-04-01  2.447589e+11  \n"
     ]
    }
   ],
   "source": [
    "print(df1)"
   ]
  },
  {
   "cell_type": "code",
   "execution_count": null,
   "id": "fe95c942-92c1-409c-b789-6a77286a78c9",
   "metadata": {},
   "outputs": [],
   "source": [
    "print(df.shape)\n",
    "\n",
    "# df2 = get_paused(security,start_date,end_date)\n",
    "# trade_dates = get_trade_days(start_date, end_date)\n",
    "# trade_dates = sorted(trade_dates)\n",
    "# print(trade_dates)\n",
    "# get_security_info('000001.XSHE')"
   ]
  },
  {
   "cell_type": "code",
   "execution_count": 39,
   "id": "affdbf40-631d-499b-bb69-a6f834bc0594",
   "metadata": {},
   "outputs": [
    {
     "name": "stdout",
     "output_type": "stream",
     "text": [
      "      a  b\n",
      "ming  1  2\n",
      "hong  2  1\n",
      "Index(['ming', 'hong'], dtype='object')\n"
     ]
    },
    {
     "data": {
      "text/plain": [
       "ming    1\n",
       "hong    2\n",
       "Name: a, dtype: int64"
      ]
     },
     "execution_count": 39,
     "metadata": {},
     "output_type": "execute_result"
    }
   ],
   "source": [
    "data = [{'a':1,'b':2},{'a':2,'b':1}]\n",
    "df = pd.DataFrame(data, index=['ming', 'hong'],columns=['a','b'])\n",
    "#df.index.name = '姓名'\n",
    "\n",
    "print(df)\n",
    "print(df.index)\n",
    "#print(df.columns)\n",
    "df['a']\n",
    "\n",
    "#print()"
   ]
  },
  {
   "cell_type": "code",
   "execution_count": 53,
   "id": "e3167e2b-47b9-4ded-908f-d0fe0f999cb0",
   "metadata": {
    "tags": []
   },
   "outputs": [],
   "source": [
    "get_bars(security, start_date, end_date, unit=\"1d\", type=\"index\")"
   ]
  },
  {
   "cell_type": "code",
   "execution_count": null,
   "id": "eea9c024-3633-4be2-906c-3eea4d2fec76",
   "metadata": {
    "tags": []
   },
   "outputs": [],
   "source": [
    "get_all_securities(date=None)"
   ]
  },
  {
   "cell_type": "code",
   "execution_count": 46,
   "id": "0cc99915-c3c4-4f0d-b72c-1caf6d69d98b",
   "metadata": {
    "tags": []
   },
   "outputs": [
    {
     "data": {
      "text/html": [
       "<div>\n",
       "<style scoped>\n",
       "    .dataframe tbody tr th:only-of-type {\n",
       "        vertical-align: middle;\n",
       "    }\n",
       "\n",
       "    .dataframe tbody tr th {\n",
       "        vertical-align: top;\n",
       "    }\n",
       "\n",
       "    .dataframe thead th {\n",
       "        text-align: right;\n",
       "    }\n",
       "</style>\n",
       "<table border=\"1\" class=\"dataframe\">\n",
       "  <thead>\n",
       "    <tr style=\"text-align: right;\">\n",
       "      <th></th>\n",
       "      <th>a</th>\n",
       "      <th>b</th>\n",
       "      <th>flag</th>\n",
       "    </tr>\n",
       "  </thead>\n",
       "  <tbody>\n",
       "    <tr>\n",
       "      <th>ming</th>\n",
       "      <td>1</td>\n",
       "      <td>1</td>\n",
       "      <td>1</td>\n",
       "    </tr>\n",
       "  </tbody>\n",
       "</table>\n",
       "</div>"
      ],
      "text/plain": [
       "      a  b  flag\n",
       "ming  1  1     1"
      ]
     },
     "execution_count": 46,
     "metadata": {},
     "output_type": "execute_result"
    }
   ],
   "source": [
    "df[0:1]"
   ]
  },
  {
   "cell_type": "code",
   "execution_count": null,
   "id": "857922d0-1244-46a8-a9fd-ca80bab6b96f",
   "metadata": {},
   "outputs": [],
   "source": []
  }
 ],
 "metadata": {
  "kernelspec": {
   "display_name": "Python 3",
   "language": "python",
   "name": "python3"
  },
  "language_info": {
   "codemirror_mode": {
    "name": "ipython",
    "version": 3
   },
   "file_extension": ".py",
   "mimetype": "text/x-python",
   "name": "python",
   "nbconvert_exporter": "python",
   "pygments_lexer": "ipython3",
   "version": "3.7.6"
  }
 },
 "nbformat": 4,
 "nbformat_minor": 5
}
